{
 "cells": [
  {
   "cell_type": "code",
   "execution_count": 5,
   "metadata": {
    "collapsed": false
   },
   "outputs": [
    {
     "data": {
      "text/plain": [
       "[(0, 0), (0, 1), (1, 0), (1, 1), (2, 0), (2, 1)]"
      ]
     },
     "execution_count": 5,
     "metadata": {},
     "output_type": "execute_result"
    }
   ],
   "source": [
    "[(i,j) for i in range(3) for j in range(2)]"
   ]
  },
  {
   "cell_type": "code",
   "execution_count": 146,
   "metadata": {
    "collapsed": false
   },
   "outputs": [],
   "source": [
    "from copy import deepcopy\n",
    "\n",
    "ROWS=2\n",
    "COLUMNS=3\n",
    "\n",
    "class GameState:\n",
    "\n",
    "    def __init__(self):\n",
    "        \"\"\"At a minimum, the board state needs to keep track\n",
    "        of which cells are open and closed; which player has \n",
    "        initiative (whose turn it is to move); and where each player \n",
    "        is on the board. \n",
    "        (Note: Remember to block off the lower right corner when you create a new board!)\n",
    "        \"\"\"\n",
    "        # represent the board as a list of length = r*c\n",
    "        self._board=[[0]*COLUMNS for _ in range(ROWS)]\n",
    "        self._board[-1][-1]=1\n",
    "        self._player=1\n",
    "        self._positions=[None,None]\n",
    "    \n",
    "    def forecast_move(self, move):\n",
    "        \"\"\" Return a new board object with the specified move\n",
    "        applied to the current game state.\n",
    "        \n",
    "        Parameters\n",
    "        ----------\n",
    "        move: tuple\n",
    "            The target position for the active player's next move\n",
    "        \"\"\"\n",
    "        # Check if the move is in the legal open spaces on the board if not throw exception\n",
    "        if move not in self.get_legal_moves():\n",
    "            raise RuntimeError(\"Not a legal move!\")\n",
    "        # Deep copy this board object\n",
    "        newboard=deepcopy(self)\n",
    "        # place the current player at the position of the move\n",
    "        newboard._positions[self._player]=move\n",
    "        # toggle the player id\n",
    "        if newboard._player == 1:\n",
    "            newboard._player=0\n",
    "        else:\n",
    "            newboard._player=1\n",
    "        # mark the move positon on the board as occupied \n",
    "        newboard._board[move[1]][move[0]]=1\n",
    "        return newboard\n",
    "    \n",
    "    def get_legal_moves(self):\n",
    "        \"\"\" Return a list of all legal moves available to the\n",
    "        active player.  Each player should get a list of all\n",
    "        empty spaces on the board on their first move, and\n",
    "        otherwise they should get a list of all open spaces\n",
    "        in a straight line along any row, column or diagonal\n",
    "        from their current position. (Players CANNOT move\n",
    "        through obstacles or blocked squares.) Moves should\n",
    "        be a pair of integers in (column, row) order specifying\n",
    "        the zero-indexed coordinates on the board.\n",
    "        \"\"\"\n",
    "        loc = self._positions[self._player]\n",
    "        if not loc:\n",
    "            return self._get_open_spaces()\n",
    "        # start with an empty moves list\n",
    "        moves=[]\n",
    "        # define a list of possible moves L,R,U,D,DDR,DDL,DUR,DUL\n",
    "        dirs = [(1,0),(-1,0),(0,1),(0,-1),(1,1),(-1,1),(1,-1),(-1,-1)]\n",
    "        # iterate through all of the possible directions from each position\n",
    "        for dx,dy in dirs:\n",
    "            _x,_y=loc\n",
    "            # check to see that we do not iterate off the board\n",
    "            while 0 <= _x+dx < ROWS and 0 <= _y+dy< COLUMNS:\n",
    "                # Move along the current direction\n",
    "                _x,_y=_x+dx,_y+dy\n",
    "                # check if that square of the board is occupied\n",
    "                if self._board[_x][_y]:\n",
    "                    break\n",
    "                moves.append((_y,_x))\n",
    "        return moves\n",
    "    \n",
    "    def _get_open_spaces(self):\n",
    "        # return the list of open board spaces i.e. not 1\n",
    "        return [(y,x) for x in range(ROWS) for y in range(COLUMNS) if self._board[x][y]!=1]"
   ]
  },
  {
   "cell_type": "code",
   "execution_count": 147,
   "metadata": {
    "collapsed": false
   },
   "outputs": [],
   "source": [
    "tmp=GameState()"
   ]
  },
  {
   "cell_type": "code",
   "execution_count": 148,
   "metadata": {
    "collapsed": false
   },
   "outputs": [
    {
     "data": {
      "text/plain": [
       "[[0, 0, 0], [0, 0, 1]]"
      ]
     },
     "execution_count": 148,
     "metadata": {},
     "output_type": "execute_result"
    }
   ],
   "source": [
    "tmp._board"
   ]
  },
  {
   "cell_type": "code",
   "execution_count": 149,
   "metadata": {
    "collapsed": false
   },
   "outputs": [
    {
     "data": {
      "text/plain": [
       "[(0, 0), (1, 0), (2, 0), (0, 1), (1, 1)]"
      ]
     },
     "execution_count": 149,
     "metadata": {},
     "output_type": "execute_result"
    }
   ],
   "source": [
    "tmp.get_legal_moves()"
   ]
  },
  {
   "cell_type": "code",
   "execution_count": 150,
   "metadata": {
    "collapsed": true
   },
   "outputs": [],
   "source": [
    "tmp._board[0][0]=1\n",
    "tmp._board[0][1]=1"
   ]
  },
  {
   "cell_type": "code",
   "execution_count": 151,
   "metadata": {
    "collapsed": false
   },
   "outputs": [],
   "source": [
    "tmp._positions[0]=(0,0)\n",
    "tmp._positions[1]=(0,1)\n"
   ]
  },
  {
   "cell_type": "code",
   "execution_count": 152,
   "metadata": {
    "collapsed": false
   },
   "outputs": [
    {
     "data": {
      "text/plain": [
       "[(1, 1), (2, 0), (0, 1)]"
      ]
     },
     "execution_count": 152,
     "metadata": {},
     "output_type": "execute_result"
    }
   ],
   "source": [
    "tmp.get_legal_moves()"
   ]
  },
  {
   "cell_type": "code",
   "execution_count": 153,
   "metadata": {
    "collapsed": false
   },
   "outputs": [
    {
     "data": {
      "text/plain": [
       "<__main__.GameState at 0x7fed749dfc18>"
      ]
     },
     "execution_count": 153,
     "metadata": {},
     "output_type": "execute_result"
    }
   ],
   "source": [
    "tmp.forecast_move((2,0))"
   ]
  },
  {
   "cell_type": "code",
   "execution_count": 164,
   "metadata": {
    "collapsed": true
   },
   "outputs": [],
   "source": [
    "\n",
    "def terminal_test(gameState):\n",
    "    \"\"\" Return True if the game is over for the active player\n",
    "    and False otherwise.\n",
    "    \"\"\"\n",
    "    if len(gameState.get_legal_moves()) == 0:\n",
    "        return True\n",
    "    else:\n",
    "        return False\n",
    "\n",
    "\n",
    "def min_value(gameState):\n",
    "    \"\"\" Return the value for a win (+1) if the game is over,\n",
    "    otherwise return the minimum value over all legal child\n",
    "    nodes.\n",
    "    \"\"\"\n",
    "    if terminal_test(gameState):\n",
    "        return 1\n",
    "    v = float(\"inf\")\n",
    "    moves = gameState.get_legal_moves()\n",
    "    for m in moves:\n",
    "        v = min(v,max_value(gameState.forecast_move(m)))\n",
    "    return v\n",
    "\n",
    "def max_value(gameState):\n",
    "    \"\"\" Return the value for a loss (-1) if the game is over,\n",
    "    otherwise return the maximum value over all legal child\n",
    "    nodes.\n",
    "    \"\"\"\n",
    "    if terminal_test(gameState):\n",
    "        return -1\n",
    "    v = float(\"-inf\")\n",
    "    moves = gameState.get_legal_moves()\n",
    "    for m in moves:\n",
    "        v = max(v,min_value(gameState.forecast_move(m)))\n",
    "    return v"
   ]
  },
  {
   "cell_type": "code",
   "execution_count": 162,
   "metadata": {
    "collapsed": false
   },
   "outputs": [
    {
     "data": {
      "text/plain": [
       "inf"
      ]
     },
     "execution_count": 162,
     "metadata": {},
     "output_type": "execute_result"
    }
   ],
   "source": [
    "max_value(tmp)"
   ]
  },
  {
   "cell_type": "code",
   "execution_count": 165,
   "metadata": {
    "collapsed": true
   },
   "outputs": [],
   "source": [
    "def minimax_decision(gameState):\n",
    "    \"\"\" Return the move along a branch of the game tree that\n",
    "    has the best possible value.  A move is a pair of coordinates\n",
    "    in (column, row) order corresponding to a legal move for\n",
    "    the searching player.\n",
    "    \n",
    "    You can ignore the special case of calling this function\n",
    "    from a terminal state.\n",
    "    \"\"\"\n",
    "    return max(gameState.get_legal_moves(),\n",
    "               key=lambda m: min_value(gameState.forecast_move(m)))"
   ]
  },
  {
   "cell_type": "code",
   "execution_count": null,
   "metadata": {
    "collapsed": true
   },
   "outputs": [],
   "source": []
  }
 ],
 "metadata": {
  "kernelspec": {
   "display_name": "Python [conda env:aind]",
   "language": "python",
   "name": "conda-env-aind-py"
  },
  "language_info": {
   "codemirror_mode": {
    "name": "ipython",
    "version": 3
   },
   "file_extension": ".py",
   "mimetype": "text/x-python",
   "name": "python",
   "nbconvert_exporter": "python",
   "pygments_lexer": "ipython3",
   "version": "3.6.0"
  }
 },
 "nbformat": 4,
 "nbformat_minor": 2
}
